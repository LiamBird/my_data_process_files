{
 "cells": [
  {
   "cell_type": "markdown",
   "metadata": {},
   "source": [
    "# Processing gravimetric capacity data"
   ]
  },
  {
   "cell_type": "code",
   "execution_count": 1,
   "metadata": {},
   "outputs": [],
   "source": [
    "%matplotlib inline"
   ]
  },
  {
   "cell_type": "code",
   "execution_count": 2,
   "metadata": {},
   "outputs": [],
   "source": [
    "import os\n",
    "import glob\n",
    "import pandas as pd\n",
    "import numpy as np\n",
    "from numpy import median\n",
    "import matplotlib.pyplot as plt\n",
    "np.set_printoptions(formatter={'float': lambda x: \"{0:0.2f}\".format(x)})"
   ]
  },
  {
   "cell_type": "markdown",
   "metadata": {},
   "source": [
    "Set the folder to import text files from:"
   ]
  },
  {
   "cell_type": "code",
   "execution_count": 3,
   "metadata": {},
   "outputs": [],
   "source": [
    "path = r'C:\\Users\\laure\\Dropbox\\DATA\\SCap\\(0-0-1)(10-0)T'\n",
    "#path = r'C:\\Users\\laure\\Dropbox\\DATA\\SCap\\(0-0-1)(10-0)P'"
   ]
  },
  {
   "cell_type": "markdown",
   "metadata": {},
   "source": [
    "Import the files into a numpy array"
   ]
  },
  {
   "cell_type": "code",
   "execution_count": 4,
   "metadata": {},
   "outputs": [],
   "source": [
    "allfiles = glob.glob(os.path.join(path, \"*.txt\"))\n",
    "data_imp = (pd.read_csv(f, delimiter='\\t', header='infer') for f in allfiles)\n",
    "rawimp = np.asarray(pd.concat(data_imp))"
   ]
  },
  {
   "cell_type": "markdown",
   "metadata": {},
   "source": [
    "Identify the lengths of each sample set:"
   ]
  },
  {
   "cell_type": "code",
   "execution_count": 5,
   "metadata": {},
   "outputs": [],
   "source": [
    "sl = []                             # Initialise variable for sample length\n",
    "for i in range(len(rawimp)):        \n",
    "    if rawimp[i, 0]==1:             # Look for cycle number 1 (in 0th column)\n",
    "        sl.append(i)                # Record row numbers of new cycles ending\n",
    "\n",
    "sl.append(len(rawimp))              # Append total length of rawimp data set\n",
    "\n",
    "sle = np.zeros(shape=(len(sl)-1), dtype=int)        # Initialise variable for storing row ranges for each sample\n",
    "for i in range(len(sl)-1):                          \n",
    "    sle[i] = sl[i+1]-sl[i]                          # Subtract sample ends from sl to obtain lengths of sample data sets"
   ]
  },
  {
   "cell_type": "markdown",
   "metadata": {},
   "source": [
    "Initialise empty numpy array with enough rows for the sample with the most rows...\n",
    "    4 columns (all samples have Cycle, Charge, Discharge, Efficiency by default)...\n",
    "    enough layers for each sample (corresponds to number of values in sle)"
   ]
  },
  {
   "cell_type": "code",
   "execution_count": 6,
   "metadata": {},
   "outputs": [],
   "source": [
    "data = np.empty(shape=(max(sle), 4, len(sle)), dtype=object)\n",
    "discharge = np.empty(shape=(max(sle), len(sle)), dtype = float)"
   ]
  },
  {
   "cell_type": "code",
   "execution_count": 7,
   "metadata": {},
   "outputs": [],
   "source": [
    "for i in range(len(sle)):\n",
    "    data[range(sle[i]), :, i] = rawimp[range(sl[i], sl[i+1]), :]"
   ]
  },
  {
   "cell_type": "code",
   "execution_count": 8,
   "metadata": {},
   "outputs": [],
   "source": [
    "for i in range(max(sle)):\n",
    "    for j in range(len(sle)):\n",
    "        discharge[i, j] = data[i, 2, j]"
   ]
  },
  {
   "cell_type": "code",
   "execution_count": null,
   "metadata": {},
   "outputs": [],
   "source": []
  },
  {
   "cell_type": "markdown",
   "metadata": {},
   "source": [
    "## Making plot"
   ]
  },
  {
   "cell_type": "code",
   "execution_count": 9,
   "metadata": {},
   "outputs": [],
   "source": [
    "plotdat = discharge[:, 2]"
   ]
  },
  {
   "cell_type": "code",
   "execution_count": 10,
   "metadata": {},
   "outputs": [],
   "source": [
    "cycles = range(len(discharge))\n",
    "lastcyc = (~np.isnan(plotdat)).cumsum(0).argmax(0)"
   ]
  },
  {
   "cell_type": "code",
   "execution_count": 11,
   "metadata": {},
   "outputs": [
    {
     "data": {
      "image/png": "[encoded data removed]",
      "text/plain": [
       "<Figure size 432x288 with 1 Axes>"
      ]
     },
     "metadata": {
      "needs_background": "light"
     },
     "output_type": "display_data"
    },
    {
     "data": {
      "image/png": "[encoded data removed]",
      "text/plain": [
       "<Figure size 432x288 with 1 Axes>"
      ]
     },
     "metadata": {
      "needs_background": "light"
     },
     "output_type": "display_data"
    }
   ],
   "source": [
    "ax = plt.figure(1)\n",
    "\n",
    "sample1 = plt.plot(cycles, discharge[:, 0], ls='None', marker='o', color=[0, 0, 0])\n",
    "# sample2 = plt.plot(cycles, discharge[:, 1], ls='None', marker='o', color='red')\n",
    "sample3 = plt.plot(cycles, discharge[:, 2], ls='None', marker='o', color=[1, 0, 0])\n",
    "sample7 = plt.plot(cycles, discharge[:, 6], ls='None', marker='o', fillstyle = 'none', color=[0, 0, 1])\n",
    "\n",
    "# sample5 = plt.plot(cycles, discharge[:, 4], ls='None', marker='x', fillstyle = 'none', color='cyan')\n",
    "# sample6 = plt.plot(cycles, discharge[:, 5], ls='None', marker='x', fillstyle = 'none', color='blue')\n",
    "\n",
    "ax = plt.figure(2)\n",
    "sample4 = plt.plot(cycles, discharge[:, 3], ls='None', marker='o', fillstyle = 'none', color=[0, 1, 0])\n",
    "sample8 = plt.plot(cycles, discharge[:, 7], ls='None', marker='o', fillstyle = 'none', color=[1, 1, 0])\n",
    "sample9 = plt.plot(cycles, discharge[:, 8], ls='None', marker='x', fillstyle = 'none', color=[0, 1, 1])\n",
    "sample10 = plt.plot(cycles, discharge[:, 9], ls='None', marker='x', fillstyle = 'none', color=[1, 0, 1])\n",
    "\n",
    "plt.xlabel('Cycle number')\n",
    "plt.ylabel('Gravimetric Capacity (mAh/g)')\n",
    "plt.tick_params(axis='y', which='both', direction='in', labelright=False, right=True)\n",
    "plt.minorticks_on()\n",
    "plt.tick_params(which='both', direction='in', right=True, left=True, bottom=True, top=True)\n",
    "# plt.legend()\n"
   ]
  },
  {
   "cell_type": "markdown",
   "metadata": {},
   "source": [
    "## Finding stable capacity"
   ]
  },
  {
   "cell_type": "code",
   "execution_count": 12,
   "metadata": {},
   "outputs": [
    {
     "data": {
      "text/plain": [
       "array([[0.00, 0.00, 0.00, ..., 0.00, 393.10, 0.00],\n",
       "       [677.80, 157.70, 434.10, ..., 70.00, 369.10, 238.30],\n",
       "       [504.90, 66.40, 282.50, ..., 314.20, 386.00, 334.50],\n",
       "       ...,\n",
       "       [nan, 23.10, nan, ..., nan, nan, nan],\n",
       "       [nan, 22.50, nan, ..., nan, nan, nan],\n",
       "       [nan, 23.20, nan, ..., nan, nan, nan]])"
      ]
     },
     "execution_count": 12,
     "metadata": {},
     "output_type": "execute_result"
    }
   ],
   "source": [
    "discharge[:, :]"
   ]
  },
  {
   "cell_type": "code",
   "execution_count": 13,
   "metadata": {},
   "outputs": [],
   "source": [
    "tol = 2"
   ]
  },
  {
   "cell_type": "code",
   "execution_count": 14,
   "metadata": {},
   "outputs": [],
   "source": [
    "grad_range = 1\n",
    "d2dx2_range = 5"
   ]
  },
  {
   "cell_type": "code",
   "execution_count": 15,
   "metadata": {},
   "outputs": [],
   "source": [
    "if grad_range == 1:\n",
    "    cap_change_end = 2\n",
    "else:\n",
    "    cap_change_end = grad_range\n",
    "\n",
    "    \n",
    "if d2dx2_range == 1:\n",
    "    cap_change2_end = 2\n",
    "else:\n",
    "    cap_change2_end = d2dx2_range\n",
    "    "
   ]
  },
  {
   "cell_type": "code",
   "execution_count": 16,
   "metadata": {},
   "outputs": [],
   "source": [
    "cap_change = np.zeros(shape=discharge.shape, dtype=float)\n",
    "for j in range(cap_change.shape[1]):\n",
    "    for i in range(1, cap_change.shape[0]-cap_change_end):\n",
    "        cap_change[i, j] = (discharge[i+grad_range, j] - discharge[i, j])/grad_range\n",
    "        cap_change[-cap_change_end:cap_change.shape[0]] = np.nan"
   ]
  },
  {
   "cell_type": "code",
   "execution_count": 17,
   "metadata": {},
   "outputs": [],
   "source": [
    "cap_change_2 = np.zeros(shape=discharge.shape, dtype=float)\n",
    "for j in range(cap_change_2.shape[1]):\n",
    "    for i in range(1, cap_change_2.shape[0]-cap_change2_end):\n",
    "        cap_change_2[i, j] = np.sum(cap_change[i:i+d2dx2_range, j])/d2dx2_range\n",
    "        cap_change_2[-cap_change2_end:cap_change_2.shape[0]] = np.nan"
   ]
  },
  {
   "cell_type": "code",
   "execution_count": 18,
   "metadata": {},
   "outputs": [],
   "source": [
    "J = 3"
   ]
  },
  {
   "cell_type": "code",
   "execution_count": 19,
   "metadata": {},
   "outputs": [
    {
     "name": "stdout",
     "output_type": "stream",
     "text": [
      "yes\n"
     ]
    }
   ],
   "source": [
    "plateau = np.full(cap_change_2.shape, np.nan)\n",
    "a = abs(cap_change_2[3-J:3+J, 0])\n",
    "if all(v<100 for v in a):\n",
    "    print('yes')"
   ]
  },
  {
   "cell_type": "code",
   "execution_count": 20,
   "metadata": {},
   "outputs": [
    {
     "data": {
      "text/plain": [
       "array([0.00, 44.24, 10.22, 4.48, 0.88, 3.18])"
      ]
     },
     "execution_count": 20,
     "metadata": {},
     "output_type": "execute_result"
    }
   ],
   "source": [
    "a"
   ]
  },
  {
   "cell_type": "code",
   "execution_count": 21,
   "metadata": {},
   "outputs": [],
   "source": [
    "tol_measure = np.zeros(shape = cap_change_2.shape)\n",
    "# a = np.zeros(shape=(cap_change_2.shape[0], 6))\n",
    "for j in range(cap_change_2.shape[1]):\n",
    "    for i in range(J, cap_change_2.shape[0]-J):\n",
    "        a = abs(cap_change_2[i-J:i+J, j])\n",
    "        if all(val < tol for val in a):\n",
    "            tol_measure[i, j] = 1"
   ]
  },
  {
   "cell_type": "code",
   "execution_count": 22,
   "metadata": {},
   "outputs": [],
   "source": [
    "plat_start = np.zeros(shape=(tol_measure.shape[1], 1), dtype=float)\n",
    "for j in range(tol_measure.shape[1]):\n",
    "    try:\n",
    "        np.nonzero(tol_measure[:, j])[0][0]\n",
    "    except:\n",
    "        plat_start[j, 0] = np.nan\n",
    "    else:\n",
    "        plat_start[j, 0] = np.nonzero(tol_measure[:, j])[0][0]"
   ]
  },
  {
   "cell_type": "code",
   "execution_count": 23,
   "metadata": {},
   "outputs": [
    {
     "data": {
      "text/plain": [
       "array([[20.00],\n",
       "       [9.00],\n",
       "       [19.00],\n",
       "       [nan],\n",
       "       [20.00],\n",
       "       [9.00],\n",
       "       [19.00],\n",
       "       [14.00],\n",
       "       [20.00],\n",
       "       [16.00]])"
      ]
     },
     "execution_count": 23,
     "metadata": {},
     "output_type": "execute_result"
    }
   ],
   "source": [
    "plat_start"
   ]
  },
  {
   "cell_type": "code",
   "execution_count": 24,
   "metadata": {},
   "outputs": [],
   "source": [
    "stable_discharge = np.zeros(shape=(tol_measure.shape[1], 1), dtype=float)\n",
    "for j in range(tol_measure.shape[1]):\n",
    "    try:\n",
    "        discharge[int(plat_start[j][0]), j]\n",
    "    except:\n",
    "        stable_discharge[j] = np.nan\n",
    "    else:\n",
    "        stable_discharge[j] = discharge[int(plat_start[j][0]), j] "
   ]
  },
  {
   "cell_type": "code",
   "execution_count": 25,
   "metadata": {},
   "outputs": [
    {
     "data": {
      "text/plain": [
       "array([[403.00],\n",
       "       [45.70],\n",
       "       [159.10],\n",
       "       [nan],\n",
       "       [403.00],\n",
       "       [45.70],\n",
       "       [159.10],\n",
       "       [656.50],\n",
       "       [522.00],\n",
       "       [473.60]])"
      ]
     },
     "execution_count": 25,
     "metadata": {},
     "output_type": "execute_result"
    }
   ],
   "source": [
    "stable_discharge"
   ]
  },
  {
   "cell_type": "code",
   "execution_count": 26,
   "metadata": {},
   "outputs": [],
   "source": [
    "stable_discharge = stable_discharge[~np.isnan(stable_discharge).any(axis=1)]"
   ]
  },
  {
   "cell_type": "code",
   "execution_count": 27,
   "metadata": {},
   "outputs": [
    {
     "data": {
      "text/plain": [
       "318.6333333333333"
      ]
     },
     "execution_count": 27,
     "metadata": {},
     "output_type": "execute_result"
    }
   ],
   "source": [
    "np.mean(stable_discharge)"
   ]
  },
  {
   "cell_type": "code",
   "execution_count": 28,
   "metadata": {},
   "outputs": [
    {
     "data": {
      "text/plain": [
       "209.13817867089162"
      ]
     },
     "execution_count": 28,
     "metadata": {},
     "output_type": "execute_result"
    }
   ],
   "source": [
    "np.std(stable_discharge)"
   ]
  },
  {
   "cell_type": "code",
   "execution_count": 29,
   "metadata": {},
   "outputs": [
    {
     "data": {
      "text/plain": [
       "403.0"
      ]
     },
     "execution_count": 29,
     "metadata": {},
     "output_type": "execute_result"
    }
   ],
   "source": [
    "np.median(stable_discharge)"
   ]
  },
  {
   "cell_type": "raw",
   "metadata": {},
   "source": [
    "s=3\n",
    "ax = plt.figure(1)\n",
    "start = 0\n",
    "x = range(start, cap_change.shape[0])\n",
    "\n",
    "plt.plot(x[:], cap_change[start:, s])\n",
    "plt.plot(x[:], cap_change_2[start:, s])\n",
    "plt.axhline(y=tol)\n",
    "plt.axhline(y=-tol)\n",
    "# plt.axvline(x=plat_start)\n",
    "plt.xlim([0, 50])\n",
    "plt.ylim([-10, 5])\n",
    "\n",
    "ax = plt.figure(2)\n",
    "x2 = range(start, discharge.shape[0])\n",
    "plt.plot(x2[:], discharge[start:, s])\n",
    "# plt.axvline(x=plat_start)\n"
   ]
  },
  {
   "cell_type": "code",
   "execution_count": null,
   "metadata": {},
   "outputs": [],
   "source": []
  }
 ],
 "metadata": {
  "kernelspec": {
   "display_name": "Python 3",
   "language": "python",
   "name": "python3"
  },
  "language_info": {
   "codemirror_mode": {
    "name": "ipython",
    "version": 3
   },
   "file_extension": ".py",
   "mimetype": "text/x-python",
   "name": "python",
   "nbconvert_exporter": "python",
   "pygments_lexer": "ipython3",
   "version": "3.7.0"
  }
 },
 "nbformat": 4,
 "nbformat_minor": 2
}
